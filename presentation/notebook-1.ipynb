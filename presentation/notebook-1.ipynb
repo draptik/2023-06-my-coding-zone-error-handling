{
 "cells": [
  {
   "attachments": {},
   "cell_type": "markdown",
   "metadata": {},
   "source": [
    "# Error Handling"
   ]
  },
  {
   "cell_type": "code",
   "execution_count": 2,
   "metadata": {
    "dotnet_interactive": {
     "language": "csharp"
    },
    "polyglot_notebook": {
     "kernelName": "csharp"
    }
   },
   "outputs": [
    {
     "data": {
      "text/html": [
       "<div><div></div><div></div><div><strong>Installed Packages</strong><ul><li><span>CSharpFunctionalExtensions, 2.39.2</span></li><li><span>FluentAssertions, 6.11.0</span></li><li><span>xunit, 2.4.2</span></li></ul></div></div>"
      ]
     },
     "metadata": {},
     "output_type": "display_data"
    }
   ],
   "source": [
    "// Install dependencies\n",
    "#r \"nuget: xunit, 2.4.2\"\n",
    "#r \"nuget: FluentAssertions, 6.11.0\"\n",
    "#r \"nuget: CSharpFunctionalExtensions, 2.39.2\"\n"
   ]
  },
  {
   "cell_type": "code",
   "execution_count": 3,
   "metadata": {
    "dotnet_interactive": {
     "language": "csharp"
    },
    "polyglot_notebook": {
     "kernelName": "csharp"
    }
   },
   "outputs": [],
   "source": [
    "using Xunit;\n",
    "using FluentAssertions;\n",
    "using FluentAssertions.Extensions;"
   ]
  },
  {
   "attachments": {},
   "cell_type": "markdown",
   "metadata": {},
   "source": [
    "## Avoid Primitive Obsession"
   ]
  },
  {
   "cell_type": "code",
   "execution_count": 5,
   "metadata": {
    "dotnet_interactive": {
     "language": "csharp"
    },
    "polyglot_notebook": {
     "kernelName": "csharp"
    }
   },
   "outputs": [
    {
     "ename": "Error",
     "evalue": "Xunit.Sdk.XunitException: Expected the date and time to be before <2023-07-13>, but found <2023-07-14>.\r\n   at FluentAssertions.Execution.XUnit2TestFramework.Throw(String message) in /_/Src/FluentAssertions/Execution/XUnit2TestFramework.cs:line 35\r\n   at FluentAssertions.Execution.TestFrameworkProvider.Throw(String message) in /_/Src/FluentAssertions/Execution/TestFrameworkProvider.cs:line 40\r\n   at FluentAssertions.Execution.DefaultAssertionStrategy.HandleFailure(String message) in /_/Src/FluentAssertions/Execution/DefaultAssertionStrategy.cs:line 25\r\n   at FluentAssertions.Execution.AssertionScope.FailWith(Func`1 failReasonFunc) in /_/Src/FluentAssertions/Execution/AssertionScope.cs:line 284\r\n   at FluentAssertions.Execution.AssertionScope.FailWith(Func`1 failReasonFunc) in /_/Src/FluentAssertions/Execution/AssertionScope.cs:line 252\r\n   at FluentAssertions.Execution.AssertionScope.FailWith(String message, Object[] args) in /_/Src/FluentAssertions/Execution/AssertionScope.cs:line 306\r\n   at FluentAssertions.Primitives.DateTimeAssertions`1.BeBefore(DateTime expected, String because, Object[] becauseArgs) in /_/Src/FluentAssertions/Primitives/DateTimeAssertions.cs:line 244\r\n   at Submission#6.<<Initialize>>d__0.MoveNext()\r\n--- End of stack trace from previous location ---\r\n   at Microsoft.CodeAnalysis.Scripting.ScriptExecutionState.RunSubmissionsAsync[TResult](ImmutableArray`1 precedingExecutors, Func`2 currentExecutor, StrongBox`1 exceptionHolderOpt, Func`2 catchExceptionOpt, CancellationToken cancellationToken)",
     "output_type": "error",
     "traceback": [
      "Xunit.Sdk.XunitException: Expected the date and time to be before <2023-07-13>, but found <2023-07-14>.\r\n",
      "   at FluentAssertions.Execution.XUnit2TestFramework.Throw(String message) in /_/Src/FluentAssertions/Execution/XUnit2TestFramework.cs:line 35\r\n",
      "   at FluentAssertions.Execution.TestFrameworkProvider.Throw(String message) in /_/Src/FluentAssertions/Execution/TestFrameworkProvider.cs:line 40\r\n",
      "   at FluentAssertions.Execution.DefaultAssertionStrategy.HandleFailure(String message) in /_/Src/FluentAssertions/Execution/DefaultAssertionStrategy.cs:line 25\r\n",
      "   at FluentAssertions.Execution.AssertionScope.FailWith(Func`1 failReasonFunc) in /_/Src/FluentAssertions/Execution/AssertionScope.cs:line 284\r\n",
      "   at FluentAssertions.Execution.AssertionScope.FailWith(Func`1 failReasonFunc) in /_/Src/FluentAssertions/Execution/AssertionScope.cs:line 252\r\n",
      "   at FluentAssertions.Execution.AssertionScope.FailWith(String message, Object[] args) in /_/Src/FluentAssertions/Execution/AssertionScope.cs:line 306\r\n",
      "   at FluentAssertions.Primitives.DateTimeAssertions`1.BeBefore(DateTime expected, String because, Object[] becauseArgs) in /_/Src/FluentAssertions/Primitives/DateTimeAssertions.cs:line 244\r\n",
      "   at Submission#6.<<Initialize>>d__0.MoveNext()\r\n",
      "--- End of stack trace from previous location ---\r\n",
      "   at Microsoft.CodeAnalysis.Scripting.ScriptExecutionState.RunSubmissionsAsync[TResult](ImmutableArray`1 precedingExecutors, Func`2 currentExecutor, StrongBox`1 exceptionHolderOpt, Func`2 catchExceptionOpt, CancellationToken cancellationToken)"
     ]
    }
   ],
   "source": [
    "public class VeranstaltungBad\n",
    "{\n",
    "    public string Name { get; set; }\n",
    "    public DateTime Beginn { get; set; }\n",
    "    public DateTime Ende { get; set; }\n",
    "}\n",
    "\n",
    "var date1 = 13.July(2023); // <- see FluentAssertions.Extensions\n",
    "var date2 = 14.July(2023);\n",
    "\n",
    "var veranstaltungBad = new VeranstaltungBad\n",
    "{\n",
    "    Name = \"Bad\",\n",
    "    Beginn = date2,\n",
    "    Ende = date1\n",
    "};\n",
    "\n",
    "//veranstaltungBad.Beginn.Should().BeBefore(veranstaltungBad.Ende);\n",
    "\n"
   ]
  },
  {
   "cell_type": "code",
   "execution_count": 6,
   "metadata": {
    "dotnet_interactive": {
     "language": "csharp"
    },
    "polyglot_notebook": {
     "kernelName": "csharp"
    }
   },
   "outputs": [],
   "source": [
    "public class VeranstaltungBetter\n",
    "{\n",
    "    public string Name { get; set; }\n",
    "    public DateRange1 Zeitraum { get; set; }\n",
    "}\n",
    "\n",
    "public class DateRange1\n",
    "{\n",
    "    public DateTime Start { get; } // no public setter\n",
    "    public DateTime End { get; }   // no public setter\n",
    "\n",
    "    public DateRange1(DateTime start, DateTime end)\n",
    "    {\n",
    "        if (end < start)\n",
    "        {\n",
    "            throw new ArgumentException(\"End date must be after start date.\");\n",
    "        }\n",
    "\n",
    "        // add more validation here if needed\n",
    "\n",
    "        Start = start;\n",
    "        End = end;\n",
    "    }\n",
    "}\n",
    "\n",
    "var range = new DateRange1(date1, date2); // Can never be invalid! -> \"Make invalid states unrepresentable\"\n",
    "\n",
    "var veranstaltung = new VeranstaltungBetter\n",
    "{\n",
    "    Name = \"Bad\",\n",
    "    Zeitraum = range\n",
    "};\n",
    "\n",
    "veranstaltung.Zeitraum.Start.Should().BeBefore(veranstaltung.Zeitraum.End);"
   ]
  },
  {
   "attachments": {},
   "cell_type": "markdown",
   "metadata": {},
   "source": [
    "## Law of Demeter\n",
    "\n",
    "- ⚠️ avoid \"train wrecks\" (f. ex. `Person.Address.Street.Nr`)\n",
    "- 💡 prefer Information Hiding / Encapsulation\n",
    "- 👉 easier to change in the future"
   ]
  },
  {
   "cell_type": "code",
   "execution_count": 14,
   "metadata": {
    "dotnet_interactive": {
     "language": "csharp"
    },
    "polyglot_notebook": {
     "kernelName": "csharp"
    }
   },
   "outputs": [],
   "source": [
    "veranstaltung.Zeitraum.Start.Should().BeBefore(veranstaltung.Zeitraum.End);\n",
    "//            ^^^^^^^^                                       ^^^^^^^^\n",
    "\n",
    "public class VeranstaltungBetter2\n",
    "{\n",
    "    private DateRange1 Zeitraum { get; set; } // private setter\n",
    "\n",
    "    public string Name { get; set; }\n",
    "    public DateTime Start => Zeitraum.Start;\n",
    "    public DateTime End => Zeitraum.End;\n",
    "\n",
    "    public VeranstaltungBetter2(string name, DateRange1 zeitraum)\n",
    "    {\n",
    "        Name = name;\n",
    "        Zeitraum = zeitraum;\n",
    "    }\n",
    "}\n",
    "\n",
    "var veranstaltung2 = new VeranstaltungBetter2(\"Bad\", range);\n",
    "\n",
    "veranstaltung2.Start.Should().BeBefore(veranstaltung2.End);"
   ]
  },
  {
   "cell_type": "code",
   "execution_count": 8,
   "metadata": {
    "dotnet_interactive": {
     "language": "csharp"
    },
    "polyglot_notebook": {
     "kernelName": "csharp"
    }
   },
   "outputs": [],
   "source": [
    "public class Person1\n",
    "{\n",
    "    public IEnumerable<Address> Addresses { get; set; }\n",
    "    public string StreetNumber => string.Join(\",\", Addresses.Select(x =>x.Street.Nr));\n",
    "}\n",
    "public class Address {\n",
    "    public Street Street { get; set; }\n",
    "    public string StreetNumber => Street.Nr;\n",
    "}\n",
    "public class Street {\n",
    "    public string Nr { get; set; }\n",
    "}\n",
    "\n",
    "var person = new Person1{\n",
    "    Address = new Address\n",
    "    {\n",
    "        Street = new Street\n",
    "        {\n",
    "            Nr = \"1\"\n",
    "        }\n",
    "    }\n",
    "};\n",
    "\n",
    "person.StreetNumber.Should().Be(\"1\");\n"
   ]
  },
  {
   "attachments": {},
   "cell_type": "markdown",
   "metadata": {},
   "source": [
    "## Value Objects\n",
    "\n",
    "Value Objects (VOs) are one of the building blocks of Domain-Driven Design (DDD).\n",
    "\n",
    "- equality by structure\n",
    "- immutable (no life cycle)\n",
    "- contain as much business logic as possible!\n",
    "\n",
    "### Equality\n",
    "\n",
    "- by reference (default in C#)\n",
    "- by id (often used in combination with persistence)\n",
    "- by structure\n",
    "\n",
    "Two VOs are equal when they contain the same values. The don't have to be the same object.\n",
    "\n",
    "We want the following behaviour:\n",
    "\n",
    "```csharp\n",
    "var money1 = new Money(5, \"EUR\");\n",
    "var money2 = new Money(5, \"EUR\");\n",
    "\n",
    "var areEqual = money1 == money2;\n",
    "\n",
    "areEqual.Should().BeTrue();\n",
    "```\n",
    "\n",
    "To accomplish this, we have to override `GetHashCode` and `Equals`.\n",
    "\n",
    "Example:\n",
    "\n",
    "```csharp\n",
    "override bool Equals(object? obj)\n",
    "{\n",
    "    if (obj is not Money other)\n",
    "        return false;\n",
    "\n",
    "    return other.Amount == this.Amount &&\n",
    "        other.Currency == this.Currency;\n",
    "}\n",
    "\n",
    "override int GetHashCode() \n",
    "{ \n",
    "    return HashCode.Combine(Amount, Currency); // Thx, Rider ;-)\n",
    "}"
   ]
  },
  {
   "attachments": {},
   "cell_type": "markdown",
   "metadata": {},
   "source": [
    "### Immutability\n",
    "\n",
    "Once a Value Object has been created, it can never change.\n",
    "\n",
    "Why is this a good idea?\n",
    "\n",
    "- a valid VO will always be valid\n",
    "- simplifies multithreading\n",
    "- simplifies testing\n",
    "\n",
    "#### How to ensure Immutability?\n",
    "\n",
    "- properties should never have public setters\n",
    "- avoid parameterless constructors (watch out for frameworks!)"
   ]
  },
  {
   "attachments": {},
   "cell_type": "markdown",
   "metadata": {},
   "source": [
    "### Add logic\n",
    "\n",
    "We can add more than just validation logic to Value Objects.\n",
    "\n",
    "Example:\n",
    "\n",
    "```csharp\n",
    "class DateRange\n",
    "{\n",
    "    // ...\n",
    "\n",
    "    DateRange ChangeStartDate(DateTime newStartDate)\n",
    "    {\n",
    "        // The constructor already contains our validation\n",
    "        return new DateRange(newStartDate, this.End);\n",
    "    }\n",
    "}\n",
    "```"
   ]
  },
  {
   "attachments": {},
   "cell_type": "markdown",
   "metadata": {},
   "source": [
    "### Value Objects: Common practices\n",
    "\n",
    "- nested VOs\n",
    "- reduce boilerplate code by using a library \n",
    "    - f. ex. [CSharpFunctionalExtentions](https://github.com/vkhorikov/CSharpFunctionalExtensions)\n",
    "- Validate at the boundary of the Core Domain\n",
    "    - UnvalidatedThing -> ValidatedThing\n",
    "- change VOs be creating new VOs\n",
    "- very simple VOs (without any logic) can be replaced by C# `record`s\n",
    "- Smart Constructor pattern (more on this later...)\n",
    "\n",
    "#### Nesting Value Objects\n",
    "\n",
    "Nothing prevents us from nesting Value Objects. Doing so is actually a good practice.\n",
    "\n",
    "See AddressExample in IDE\n",
    "\n",
    "#### Validate at the boundary of the Core Domain\n",
    "\n",
    "We often have unvalidated data at the boundary of our application. This data is often present in the form of Data Transfer Objects (DTOs) or deserialized data (i.e. from JSON).\n",
    "\n",
    "Example:\n",
    "\n",
    "```csharp\n",
    "// Unvalidated\n",
    "class AddressDTO\n",
    "{\n",
    "    string City { get; set; }\n",
    "    string Street { get; set; }\n",
    "}\n",
    "```\n",
    "\n",
    "Use a dedicated method or a constructor to create a valid `Address` Value Object.\n",
    "\n",
    "```csharp\n",
    "// Always valid\n",
    "class Address\n",
    "{\n",
    "    private readonly City _city;\n",
    "    private readonly Street _street;\n",
    "\n",
    "    string City => _city.Value;\n",
    "    string Street => _street.Value;\n",
    "\n",
    "    Address(AddressDTO dto)\n",
    "    {\n",
    "        if (!IsValid(dto))\n",
    "        {\n",
    "            throw new InvalidAddressException($\"Invalid address: {dto}\");\n",
    "        }\n",
    "\n",
    "        _city = new City(dto.City);\n",
    "        _street = new Street(dto.Street);\n",
    "    }\n",
    "\n",
    "    bool IsValid(AddressDTO dto)\n",
    "    {\n",
    "        // add validation logic here\n",
    "        return true;\n",
    "    }\n",
    "\n",
    "    // ...\n",
    "}\n",
    "```\n",
    "\n",
    "#### C# records vs Value Objects\n",
    "\n",
    "C# introduced `record`s a while back.\n",
    "\n",
    "Can't we just use `record`s instead of Value Objects?\n",
    "\n",
    "Here is Vladimir Khorikov's take on the subject, which I agree with 💯:\n",
    "\n",
    "[C# 9 Records as DDD Value Objects](https://enterprisecraftsmanship.com/posts/csharp-records-value-objects/)\n",
    "\n",
    "C# `record`s\n",
    "\n",
    "- 👍 are immutable by default\n",
    "- 👍 are very concise\n",
    "- 👍 equality by value, but difficult to modify, f. ex.\n",
    "    - ⚠️ collections\n",
    "    - ⚠️ rounding errors\n",
    "    - ⚠️ excluding properties from comparison\n",
    "- 😠 modifying properties using `with` can bypass validation\n",
    "\n",
    "`record`s are a great match for\n",
    "\n",
    "- DTOs\n",
    "- avoiding primitive obsession\n",
    "- applications not requiring a rich domain model\n"
   ]
  },
  {
   "cell_type": "code",
   "execution_count": 10,
   "metadata": {
    "dotnet_interactive": {
     "language": "csharp"
    },
    "polyglot_notebook": {
     "kernelName": "csharp"
    }
   },
   "outputs": [],
   "source": [
    "public record Foo(Guid id)\n",
    "{ \n",
    "    public string Name { get; init; } \n",
    "}\n",
    "\n",
    "var foo = new Foo(Guid.NewGuid()){Name = \"Homer\"};\n",
    "\n",
    "public record FirstName(string Value);\n",
    "public record LastName(string Value);\n",
    "public record Person(FirstName FirstName, LastName LastName);"
   ]
  },
  {
   "attachments": {},
   "cell_type": "markdown",
   "metadata": {},
   "source": [
    "## Exceptions\n",
    "\n",
    "### Is it really an exception?\n",
    "\n",
    "Consider the following 2 use cases:\n",
    "\n",
    "- \"input data\" provided by user is not valid\n",
    "- database is not reachable\n",
    "\n",
    "IMHO the first use case should NOT throw an exception...\n",
    "\n",
    "But this is an oppinionated topic. There are many different approaches to error handling...\n",
    "\n",
    "Don't use exceptions for control flow. `try/catch` blocks make code harder to read.\n",
    "\n",
    "Instead, enrich your model to include failure cases.\n",
    "\n",
    "### Consider custom exceptions\n",
    "\n",
    "When using exceptions, consider using custom exceptions. This might improve monitoring, tracing, and debugging in production.\n",
    "\n",
    "Note: This is one of the few occasions where inheritance can be useful.\n",
    "\n",
    "### Consider custom data types\n",
    "\n",
    "But, before we continue with custom data types for error handling, we should first take a look at NULL."
   ]
  },
  {
   "attachments": {},
   "cell_type": "markdown",
   "metadata": {},
   "source": [
    "## NULL\n",
    "\n",
    "Have you ever seen this exception?\n",
    "\n",
    "```csharp\n",
    "System.NullReferenceException: Object reference not set to an instance of an object.\n",
    "\n",
    "\n",
    "\n",
    "\n",
    "\n",
    "\n",
    "\n",
    "\n",
    "\n",
    "```\n",
    "\n",
    "![null](images/null.webp)\n",
    "\n",
    "Also referred to as \"The Billion Dollar Mistake\".\n",
    "\n",
    "### C# 8 nullable reference types\n",
    "\n",
    "C# 8 introduced nullable reference types.\n",
    "\n",
    "```csharp\n",
    "string? name = null;\n",
    "```\n",
    "\n",
    "To enable nullable reference types, add the following to your project file:\n",
    "\n",
    "```xml\n",
    "<PropertyGroup>\n",
    "    <Nullable>enable</Nullable>\n",
    "</PropertyGroup>\n",
    "```\n",
    "\n",
    "Many problems around NULL can be solved by using nullable reference types. \n",
    "\n",
    "Also, Value Objects and records are always non-nullable."
   ]
  },
  {
   "cell_type": "code",
   "execution_count": 15,
   "metadata": {
    "dotnet_interactive": {
     "language": "csharp"
    },
    "polyglot_notebook": {
     "kernelName": "csharp"
    }
   },
   "outputs": [],
   "source": [
    "public int Intify(string s)\n",
    "{\n",
    "    if (int.TryParse(s, out var result))\n",
    "    {\n",
    "        return result;\n",
    "    }\n",
    "\n",
    "    return -1; // 😠\n",
    "}\n",
    "\n",
    "var result1 = Intify(\"123\");\n",
    "result1.Should().Be(123);\n",
    "\n",
    "var result2 = Intify(\"abc\");\n",
    "result2.Should().Be(-1);"
   ]
  },
  {
   "cell_type": "code",
   "execution_count": 16,
   "metadata": {
    "dotnet_interactive": {
     "language": "csharp"
    },
    "polyglot_notebook": {
     "kernelName": "csharp"
    }
   },
   "outputs": [],
   "source": [
    "public class Data\n",
    "{\n",
    "    public string Name;\n",
    "}\n",
    "\n",
    "public class Do\n",
    "{\n",
    "    public Data CreateData() => null; // ⚠️\n",
    "\n",
    "    public string CreateAndUseData()\n",
    "    {\n",
    "        var data = CreateData();\n",
    "        // kein null-Check -> ist dem Compiler egal\n",
    "        return data.Name; // 💥\n",
    "    }\n",
    "}\n",
    "\n",
    "var doer = new Do();\n",
    "Action act = () => doer.CreateAndUseData();\n",
    "act.Should().Throw<NullReferenceException>();"
   ]
  },
  {
   "attachments": {},
   "cell_type": "markdown",
   "metadata": {},
   "source": [
    "## Option\n",
    "\n",
    "...slowly entering the world of functional programming...\n",
    "\n",
    "Take the following pseudo code:\n",
    "\n",
    "```txt\n",
    "type Option<T> = Some(T) | None\n",
    "```\n",
    "\n",
    "- `Some` contains a value\n",
    "- `None` contains no value\n",
    "\n",
    "How would we use a type like this?\n",
    "\n",
    "```csharp\n",
    "public Option<int> IntifyOption(string input)\n",
    "{\n",
    "    return int.TryParse(input, out var result)\n",
    "        ? Option<int>.Some(result)\n",
    "        : Option<int>.None;\n",
    "}\n",
    "```\n",
    "\n",
    "How do we access the wrapped value? 👉 `Match`\n",
    "\n",
    "```csharp\n",
    "public string Stringify<T>(Option<T> option)\n",
    "{\n",
    "    return option.Match(\n",
    "        some: value => value.ToString(),\n",
    "        none: () => \"No value present\");\n",
    "}\n",
    "```\n",
    "\n",
    "Advantages:\n",
    "\n",
    "- 👍 very explicit method signature (return type is `Option<int>`)\n",
    "- 👍 `Match` requires us to handle both cases!\n",
    "- ⚠️ Warning: C# still allows us to assign `null` to `Option<T>`..."
   ]
  },
  {
   "attachments": {},
   "cell_type": "markdown",
   "metadata": {},
   "source": [
    "## C# libraries\n",
    "\n",
    "- [LaYumba.Functional](https://github.com/la-yumba/functional-csharp-code): Great for learning functional programming in C#\n",
    "- [CSharpFunctionalExtentions](https://github.com/vkhorikov/CSharpFunctionalExtensions): Great for production code, simpler than LanguageExt\n",
    "- [LanguageExt](https://github.com/louthy/language-ext): Great for production code, has many features, but has a steep learning curve\n"
   ]
  },
  {
   "attachments": {},
   "cell_type": "markdown",
   "metadata": {},
   "source": [
    "## A new \"wrapper\": Result\n",
    "\n",
    "`Option<T>` has 2 states: `Some(T)` and `None`. \n",
    "\n",
    "Wouldn't it be nice to know why `None` is `None`?\n",
    "\n",
    "👉 That is what `Result<T, TError>` is for.\n",
    "\n",
    "⚠️ Switch to IDE ⚠️"
   ]
  }
 ],
 "metadata": {
  "kernelspec": {
   "display_name": ".NET (C#)",
   "language": "C#",
   "name": ".net-csharp"
  },
  "language_info": {
   "name": "polyglot-notebook"
  },
  "polyglot_notebook": {
   "kernelInfo": {
    "defaultKernelName": "csharp",
    "items": [
     {
      "aliases": [],
      "languageName": "csharp",
      "name": "csharp"
     }
    ]
   }
  }
 },
 "nbformat": 4,
 "nbformat_minor": 2
}
