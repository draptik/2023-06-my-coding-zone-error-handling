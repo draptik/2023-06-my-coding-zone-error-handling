{
 "cells": [
  {
   "attachments": {},
   "cell_type": "markdown",
   "metadata": {},
   "source": [
    "# Error Handling"
   ]
  },
  {
   "cell_type": "code",
   "execution_count": 11,
   "metadata": {
    "dotnet_interactive": {
     "language": "csharp"
    },
    "polyglot_notebook": {
     "kernelName": "csharp"
    }
   },
   "outputs": [
    {
     "data": {
      "text/html": [
       "<div><div></div><div></div><div><strong>Installed Packages</strong><ul><li><span>CSharpFunctionalExtensions, 2.39.2</span></li><li><span>FluentAssertions, 6.11.0</span></li><li><span>xunit, 2.4.2</span></li></ul></div></div>"
      ]
     },
     "metadata": {},
     "output_type": "display_data"
    }
   ],
   "source": [
    "// Install dependencies\n",
    "#r \"nuget: xunit, 2.4.2\"\n",
    "#r \"nuget: FluentAssertions, 6.11.0\"\n",
    "#r \"nuget: CSharpFunctionalExtensions, 2.39.2\"\n"
   ]
  },
  {
   "cell_type": "code",
   "execution_count": 12,
   "metadata": {
    "dotnet_interactive": {
     "language": "csharp"
    },
    "polyglot_notebook": {
     "kernelName": "csharp"
    }
   },
   "outputs": [],
   "source": [
    "using Xunit;\n",
    "using FluentAssertions;\n",
    "using FluentAssertions.Extensions;"
   ]
  },
  {
   "attachments": {},
   "cell_type": "markdown",
   "metadata": {},
   "source": [
    "## Avoid Primitive Obsession"
   ]
  },
  {
   "cell_type": "code",
   "execution_count": 13,
   "metadata": {
    "dotnet_interactive": {
     "language": "csharp"
    },
    "polyglot_notebook": {
     "kernelName": "csharp"
    }
   },
   "outputs": [],
   "source": [
    "public class VeranstaltungBad\n",
    "{\n",
    "    public string Name { get; set; }\n",
    "    public DateTime Beginn { get; set; }\n",
    "    public DateTime Ende { get; set; }\n",
    "}\n",
    "\n",
    "var date1 = 13.July(2023); // <- see FluentAssertions.Extensions\n",
    "var date2 = 14.July(2023);\n",
    "\n",
    "var veranstaltungBad = new VeranstaltungBad\n",
    "{\n",
    "    Name = \"Bad\",\n",
    "    Beginn = date2,\n",
    "    Ende = date1\n",
    "};\n",
    "\n",
    "//veranstaltungBad.Beginn.Should().BeBefore(veranstaltungBad.Ende);\n",
    "\n"
   ]
  },
  {
   "cell_type": "code",
   "execution_count": 19,
   "metadata": {
    "dotnet_interactive": {
     "language": "csharp"
    },
    "polyglot_notebook": {
     "kernelName": "csharp"
    }
   },
   "outputs": [],
   "source": [
    "public class VeranstaltungBetter\n",
    "{\n",
    "    public string Name { get; set; }\n",
    "    public DateRange1 Zeitraum { get; set; }\n",
    "}\n",
    "\n",
    "public class DateRange1\n",
    "{\n",
    "    public DateTime Start { get; } // no public setter\n",
    "    public DateTime End { get; }   // no public setter\n",
    "\n",
    "    public DateRange1(DateTime start, DateTime end)\n",
    "    {\n",
    "        if (end < start)\n",
    "        {\n",
    "            throw new ArgumentException(\"End date must be after start date.\");\n",
    "        }\n",
    "\n",
    "        // add more validation here if needed\n",
    "\n",
    "        Start = start;\n",
    "        End = end;\n",
    "    }\n",
    "}\n",
    "\n",
    "var range = new DateRange1(date1, date2); // Can never be invalid! -> \"Make invalid states unrepresentable\"\n",
    "\n",
    "var veranstaltung = new VeranstaltungBetter\n",
    "{\n",
    "    Name = \"Bad\",\n",
    "    Zeitraum = range\n",
    "};\n",
    "\n",
    "veranstaltung.Zeitraum.Start.Should().BeBefore(veranstaltung.Zeitraum.End);"
   ]
  },
  {
   "attachments": {},
   "cell_type": "markdown",
   "metadata": {},
   "source": [
    "## Law of Demeter\n",
    "\n",
    "- ⚠️ avoid \"train wrecks\" (f. ex. `Person.Address.Street.Nr`)\n",
    "- 💡 prefer Information Hiding / Encapsulation\n",
    "- 👉 easier to change in the future"
   ]
  },
  {
   "cell_type": "code",
   "execution_count": 20,
   "metadata": {
    "dotnet_interactive": {
     "language": "csharp"
    },
    "polyglot_notebook": {
     "kernelName": "csharp"
    }
   },
   "outputs": [],
   "source": [
    "veranstaltung.Zeitraum.Start.Should().BeBefore(veranstaltung.Zeitraum.End);\n",
    "//            ^^^^^^^^                                       ^^^^^^^^\n",
    "\n",
    "public class VeranstaltungBetter2\n",
    "{\n",
    "    private DateRange1 Zeitraum { get; set; } // private setter\n",
    "\n",
    "    public string Name { get; set; }\n",
    "    public DateTime Start => Zeitraum.Start;\n",
    "    public DateTime End => Zeitraum.End;\n",
    "\n",
    "    public VeranstaltungBetter2(string name, DateRange1 zeitraum)\n",
    "    {\n",
    "        Name = name;\n",
    "        Zeitraum = zeitraum;\n",
    "    }\n",
    "}\n",
    "\n",
    "var veranstaltung2 = new VeranstaltungBetter2(\"Bad\", range);\n",
    "\n",
    "veranstaltung2.Start.Should().BeBefore(veranstaltung2.End);"
   ]
  },
  {
   "attachments": {},
   "cell_type": "markdown",
   "metadata": {},
   "source": [
    "## Value Objects\n",
    "\n",
    "Value Objects (VOs) are one of the building blocks of Domain-Driven Design (DDD).\n",
    "\n",
    "- equality by structure\n",
    "- immutable (no life cycle)\n",
    "- contain as much business logic as possible!\n",
    "\n",
    "### Equality\n",
    "\n",
    "- by reference (default in C#)\n",
    "- by id (often used in combination with persistence)\n",
    "- by structure\n",
    "\n",
    "Two VOs are equal when they contain the same values. The don't have to be the same object.\n",
    "\n",
    "We want the following behaviour:\n",
    "\n",
    "```csharp\n",
    "var money1 = new Money(5, \"EUR\");\n",
    "var money2 = new Money(5, \"EUR\");\n",
    "\n",
    "var areEqual = money1 == money2;\n",
    "\n",
    "areEqual.Should().BeTrue();\n",
    "```\n",
    "\n",
    "To accomplish this, we have to override `GetHashCode` and `Equals`.\n",
    "\n",
    "Example:\n",
    "\n",
    "```csharp\n",
    "override bool Equals(object? obj)\n",
    "{\n",
    "    if (obj is not Money other)\n",
    "        return false;\n",
    "\n",
    "    return other.Amount == this.Amount &&\n",
    "        other.Currency == this.Currency;\n",
    "}\n",
    "\n",
    "override int GetHashCode() \n",
    "{ \n",
    "    return HashCode.Combine(Amount, Currency); // Thx, Rider ;-)\n",
    "}"
   ]
  },
  {
   "attachments": {},
   "cell_type": "markdown",
   "metadata": {},
   "source": [
    "### Immutability\n",
    "\n",
    "Once a Value Object has been created, it can never change.\n",
    "\n",
    "Why is this a good idea?\n",
    "\n",
    "- a valid VO will always be valid\n",
    "- simplifies multithreading\n",
    "- simplifies testing\n",
    "\n",
    "#### How to ensure Immutability?\n",
    "\n",
    "- properties should never have public setters\n",
    "- avoid parameterless constructors (watch out for frameworks!)"
   ]
  },
  {
   "attachments": {},
   "cell_type": "markdown",
   "metadata": {},
   "source": [
    "### Add logic\n",
    "\n",
    "We can add more than just validation logic to Value Objects.\n",
    "\n",
    "Example:\n",
    "\n",
    "```csharp\n",
    "class DateRange\n",
    "{\n",
    "    // ...\n",
    "\n",
    "    DateRange ChangeStartDate(DateTime newStartDate)\n",
    "    {\n",
    "        // The constructor already contains our validation\n",
    "        return new DateRange(newStartDate, this.End);\n",
    "    }\n",
    "}\n",
    "```"
   ]
  },
  {
   "attachments": {},
   "cell_type": "markdown",
   "metadata": {},
   "source": [
    "### Value Objects: Common practices\n",
    "\n",
    "- nested VOs\n",
    "- reduce boilerplate code by using a library \n",
    "    - f. ex. [CSharpFunctionalExtentions](https://github.com/vkhorikov/CSharpFunctionalExtensions)\n",
    "- Validate at the boundary of the Core Domain\n",
    "    - UnvalidatedThing -> ValidatedThing\n",
    "- change VOs be creating new VOs\n",
    "- very simple VOs (without any logic) can be replaced by C# `record`s\n",
    "- Smart Constructor pattern (more on this later...)\n",
    "\n",
    "#### Nesting Value Objects\n",
    "\n",
    "Nothing prevents us from nesting Value Objects. Doing so is actually a good practice.\n",
    "\n",
    "See AddressExample in IDE\n",
    "\n",
    "#### Validate at the boundary of the Core Domain\n",
    "\n",
    "We often have unvalidated data at the boundary of our application. This data is often present in the form of Data Transfer Objects (DTOs) or deserialized data (i.e. from JSON).\n",
    "\n",
    "Example:\n",
    "\n",
    "```csharp\n",
    "// Unvalidated\n",
    "class AddressDTO\n",
    "{\n",
    "    string City { get; set; }\n",
    "    string Street { get; set; }\n",
    "}\n",
    "```\n",
    "\n",
    "Use a dedicated method or a constructor to create a valid `Address` Value Object.\n",
    "\n",
    "```csharp\n",
    "// Always valid\n",
    "class Address\n",
    "{\n",
    "    private readonly City _city;\n",
    "    private readonly Street _street;\n",
    "\n",
    "    string City => _city.Value;\n",
    "    string Street => _street.Value;\n",
    "\n",
    "    Address(AddressDTO dto)\n",
    "    {\n",
    "        if (!IsValid(dto))\n",
    "        {\n",
    "            throw new InvalidAddressException($\"Invalid address: {dto}\");\n",
    "        }\n",
    "\n",
    "        _city = new City(dto.City);\n",
    "        _street = new Street(dto.Street);\n",
    "    }\n",
    "\n",
    "    bool IsValid(AddressDTO dto)\n",
    "    {\n",
    "        // add validation logic here\n",
    "        return true;\n",
    "    }\n",
    "\n",
    "    // ...\n",
    "}\n",
    "```\n",
    "\n",
    "#### C# records vs Value Objects\n",
    "\n",
    "C# introduced `record`s a while back.\n",
    "\n",
    "Can't we just use `record`s instead of Value Objects?\n",
    "\n",
    "Here is Vladimir Khorikov's take on the subject, which I agree with 💯:\n",
    "\n",
    "[C# 9 Records as DDD Value Objects](https://enterprisecraftsmanship.com/posts/csharp-records-value-objects/)\n",
    "\n",
    "C# `record`s\n",
    "\n",
    "- 👍 are immutable by default\n",
    "- 👍 are very concise\n",
    "- 👍 equality by value, but difficult to modify, f. ex.\n",
    "    - ⚠️ collections\n",
    "    - ⚠️ rounding errors\n",
    "    - ⚠️ excluding properties from comparison\n",
    "- 😠 modifying properties using `with` can bypass validation\n",
    "\n",
    "`record`s are a great match for\n",
    "\n",
    "- DTOs\n",
    "- avoiding primitive obsession\n",
    "- applications not requiring a rich domain model\n"
   ]
  }
 ],
 "metadata": {
  "kernelspec": {
   "display_name": ".NET (C#)",
   "language": "C#",
   "name": ".net-csharp"
  },
  "language_info": {
   "name": "polyglot-notebook"
  },
  "polyglot_notebook": {
   "kernelInfo": {
    "defaultKernelName": "csharp",
    "items": [
     {
      "aliases": [],
      "languageName": "csharp",
      "name": "csharp"
     }
    ]
   }
  }
 },
 "nbformat": 4,
 "nbformat_minor": 2
}
