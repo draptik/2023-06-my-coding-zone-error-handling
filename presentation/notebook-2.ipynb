{
 "cells": [
  {
   "attachments": {},
   "cell_type": "markdown",
   "metadata": {},
   "source": [
    "# Functional Programming\n",
    "\n",
    "## FP 101\n",
    "\n",
    "- Immutability\n",
    "- Functions as First Class Citizens\n",
    "- Pure Functions\n",
    "\n",
    "### Functions as First Class Citizens\n",
    "\n",
    "We can pass functions as arguments to other functions.\n",
    "\n"
   ]
  },
  {
   "cell_type": "code",
   "execution_count": 14,
   "metadata": {
    "dotnet_interactive": {
     "language": "csharp"
    },
    "polyglot_notebook": {
     "kernelName": "csharp"
    }
   },
   "outputs": [
    {
     "data": {
      "text/html": [
       "<div><div></div><div></div><div><strong>Installed Packages</strong><ul><li><span>CSharpFunctionalExtensions, 2.39.2</span></li><li><span>FluentAssertions, 6.11.0</span></li><li><span>xunit, 2.4.2</span></li></ul></div></div>"
      ]
     },
     "metadata": {},
     "output_type": "display_data"
    }
   ],
   "source": [
    "// Install dependencies\n",
    "#r \"nuget: xunit, 2.4.2\"\n",
    "#r \"nuget: FluentAssertions, 6.11.0\"\n",
    "#r \"nuget: CSharpFunctionalExtensions, 2.39.2\"\n",
    "using Xunit;\n",
    "using FluentAssertions;\n",
    "using FluentAssertions.Extensions;\n",
    "using CSharpFunctionalExtensions;"
   ]
  },
  {
   "cell_type": "code",
   "execution_count": 15,
   "metadata": {
    "dotnet_interactive": {
     "language": "csharp"
    },
    "polyglot_notebook": {
     "kernelName": "csharp"
    }
   },
   "outputs": [],
   "source": [
    "// Higher order function: a function that takes a function as an argument or returns a function as a result\n",
    "public static string Apply(Func<string, string> changeFcn, string input)\n",
    "{\n",
    "    return changeFcn(input);\n",
    "}\n",
    "\n",
    "public static string MyToUpper(string input) => input.ToUpper();\n",
    "public static string MyToLower(string input) => input.ToLower();\n",
    "\n",
    "var homer = \"Homer\";\n",
    "\n",
    "var step1 = Apply(MyToUpper, homer);\n",
    "step1.Should().Be(\"HOMER\");\n",
    "\n",
    "var step2 = Apply(MyToLower, step1);\n",
    "step2.Should().Be(\"homer\");"
   ]
  },
  {
   "attachments": {},
   "cell_type": "markdown",
   "metadata": {},
   "source": [
    "### Pure Functions\n",
    "\n",
    "A pure function is a function that has no side effects. It does not modify any external state.\n",
    "\n",
    "Example:\n",
    "\n",
    "```csharp\n",
    "// Pure\n",
    "public int Add(int a, int b) => a + b;\n",
    "```\n",
    "\n",
    "```csharp\n",
    "// Impure\n",
    "public int Add(int a, int b)\n",
    "{\n",
    "    var result = a + b;\n",
    "    Console.WriteLine(result);\n",
    "    return result;\n",
    "}\n",
    "```"
   ]
  },
  {
   "attachments": {},
   "cell_type": "markdown",
   "metadata": {},
   "source": [
    "## Challenge: Combining many small functions to larger functions\n",
    "\n",
    "But: The output of one function has to \"fit\" as input to the next function."
   ]
  },
  {
   "attachments": {},
   "cell_type": "markdown",
   "metadata": {},
   "source": [
    "### Maybe \"wrapper\" is more powerful than you think!\n",
    "\n",
    "Be using C# extension methods we can build a simple mapping function to chain functions."
   ]
  },
  {
   "cell_type": "code",
   "execution_count": 16,
   "metadata": {
    "dotnet_interactive": {
     "language": "csharp"
    },
    "polyglot_notebook": {
     "kernelName": "csharp"
    }
   },
   "outputs": [],
   "source": [
    "public static Maybe<TOut> Map<TIn, TOut>(this Maybe<TIn> input, Func<TIn, TOut> map)\n",
    "{\n",
    "    if (input.HasValue)\n",
    "    {\n",
    "        return map(input.Value);\n",
    "    }\n",
    "    else\n",
    "    {\n",
    "        return Maybe<TOut>.None;\n",
    "    }\n",
    "}\n",
    "\n",
    "var maybeHomer = Maybe<string>.From(homer);\n",
    "var maybeHomerUpper = maybeHomer.Map(MyToUpper);\n",
    "maybeHomerUpper.Should().Be(Maybe<string>.From(\"HOMER\"));\n",
    "\n",
    "var maybeNone = Maybe<string>.None;\n",
    "var maybeNoneUpper = maybeNone.Map(MyToUpper);\n",
    "maybeNoneUpper.Should().Be(Maybe<string>.None);"
   ]
  },
  {
   "attachments": {},
   "cell_type": "markdown",
   "metadata": {},
   "source": [
    "This is basically how LINQ `Select` works! \n",
    "\n",
    "Except that LINQ `Select` only works with `IEnumerable<T>`.\n",
    "\n",
    "In functional lingo, this is called a `Functor`.\n",
    "\n",
    "![Functor](./images/Funktor_1.png)"
   ]
  },
  {
   "attachments": {},
   "cell_type": "markdown",
   "metadata": {},
   "source": [
    "### Functor (\"Mappable\")\n",
    "\n",
    "A container that can be mapped over.\n",
    "\n",
    "```haskell\n",
    "map: (a -> b) -> F a -> F b\n",
    "```\n",
    "\n",
    "Other names: `fmap` (Haskell), `Select` (LINQ), `map` (JavaScript), `<$>`, `<!>` (infix operators)"
   ]
  },
  {
   "attachments": {},
   "cell_type": "markdown",
   "metadata": {},
   "source": [
    "### Result \"wrapper\" is even more powerful than you think!\n",
    "\n",
    "Be using C# extension methods we can build simple bind function to chain functions."
   ]
  },
  {
   "cell_type": "code",
   "execution_count": 17,
   "metadata": {
    "dotnet_interactive": {
     "language": "csharp"
    },
    "polyglot_notebook": {
     "kernelName": "csharp"
    }
   },
   "outputs": [],
   "source": [
    "public static Result<K> Bind<T, K>(this Result<T> result, Func<T, Result<K>> func)\n",
    "{\n",
    "    if (result.IsFailure)\n",
    "    {\n",
    "        return Result.Failure<K>(result.Error);\n",
    "    }\n",
    "    else\n",
    "    {\n",
    "        return func(result.Value);\n",
    "    }\n",
    "}"
   ]
  },
  {
   "attachments": {},
   "cell_type": "markdown",
   "metadata": {},
   "source": [
    "This is basically how LINQ `SelectMany` works! \n",
    "\n",
    "Except that LINQ `SelectMany` only works with `IEnumerable<T>`.\n",
    "\n",
    "In functional lingo, this is called a `Monad`.\n",
    "\n",
    "![Monad](./images/Monade_1.png)"
   ]
  },
  {
   "attachments": {},
   "cell_type": "markdown",
   "metadata": {},
   "source": [
    "### Monad (\"Chainable\")\n",
    "\n",
    "A container that has a `Bind` function (following certain rules).\n",
    "\n",
    "```haskell\n",
    "bind: (a -> M b) -> M a -> M b\n",
    "```\n",
    "\n",
    "Other names: `>>=` (Haskell), `SelectMany` (LINQ), `chain` (JavaScript), `>>=`, `>=>` (infix operators)"
   ]
  }
 ],
 "metadata": {
  "kernelspec": {
   "display_name": ".NET (C#)",
   "language": "C#",
   "name": ".net-csharp"
  },
  "language_info": {
   "name": "polyglot-notebook"
  },
  "polyglot_notebook": {
   "kernelInfo": {
    "defaultKernelName": "csharp",
    "items": [
     {
      "aliases": [],
      "languageName": "csharp",
      "name": "csharp"
     }
    ]
   }
  }
 },
 "nbformat": 4,
 "nbformat_minor": 2
}
