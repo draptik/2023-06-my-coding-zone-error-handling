{
 "cells": [
  {
   "attachments": {},
   "cell_type": "markdown",
   "metadata": {},
   "source": [
    "# F# Introduction\n",
    "\n",
    "- Community driven language\n",
    "- Open source\n",
    "- Syntax similar to OCaml\n",
    "- Multi-paradigm\n",
    "- Functional first\n",
    "- very pragmatic (!) (doesn't enforce purity)\n",
    "- Interoperable with .NET\n",
    "- statically typed"
   ]
  },
  {
   "attachments": {},
   "cell_type": "markdown",
   "metadata": {},
   "source": [
    "## Specialties\n",
    "\n",
    "- significant whitespace (similar to Python)\n",
    "- order of functions within file is important!\n",
    "- order of files within project is important!"
   ]
  },
  {
   "cell_type": "code",
   "execution_count": 18,
   "metadata": {
    "dotnet_interactive": {
     "language": "fsharp"
    },
    "polyglot_notebook": {
     "kernelName": "fsharp"
    }
   },
   "outputs": [],
   "source": [
    "// Immutable by default\n",
    "\n",
    "// Achtung: = ist hier keine Zuweisung, sondern heißt \n",
    "// \"linke und rechte Seite sind gleich und bleiben es auch immer\"\n",
    "let x = 3\n",
    "let add a b = a + b\n",
    "let m = if 3 > 0 then 7 else 42\n",
    "\n",
    "// Mutability nur auf Wunsch - normalerweise unnötig\n",
    "let mutable y = 3\n",
    "y <- 42"
   ]
  },
  {
   "cell_type": "code",
   "execution_count": 3,
   "metadata": {
    "dotnet_interactive": {
     "language": "fsharp"
    },
    "polyglot_notebook": {
     "kernelName": "fsharp"
    }
   },
   "outputs": [],
   "source": [
    "// Powerful type inference\n",
    "\n",
    "// Typen werden automatisch abgeleitet sofern möglich\n",
    "let double a = a * 2 // int -> int\n",
    "\n",
    "// Explizite Angaben möglich\n",
    "let doubleExplicit (a: int) : int = a * 2"
   ]
  },
  {
   "cell_type": "code",
   "execution_count": 4,
   "metadata": {
    "dotnet_interactive": {
     "language": "fsharp"
    },
    "polyglot_notebook": {
     "kernelName": "fsharp"
    }
   },
   "outputs": [],
   "source": [
    "// Currying\n",
    "\n",
    "// int -> int -> int -> int\n",
    "// eigentlich: int -> (int -> (int -> int))\n",
    "let addThree a b c = a + b + c"
   ]
  },
  {
   "cell_type": "code",
   "execution_count": 5,
   "metadata": {
    "dotnet_interactive": {
     "language": "fsharp"
    },
    "polyglot_notebook": {
     "kernelName": "fsharp"
    }
   },
   "outputs": [],
   "source": [
    "// Partial Application\n",
    "\n",
    "let add a b = a + b // int -> (int -> (int))\n",
    "let add2 = add 2 // (int -> (int))\n",
    "let six = add2 4 // (int)\n",
    "let ten = add2 8 // (int)"
   ]
  },
  {
   "cell_type": "code",
   "execution_count": 6,
   "metadata": {
    "dotnet_interactive": {
     "language": "fsharp"
    },
    "polyglot_notebook": {
     "kernelName": "fsharp"
    }
   },
   "outputs": [
    {
     "data": {
      "text/html": [
       "<div class=\"dni-plaintext\"><pre>16</pre></div><style>\r\n",
       ".dni-code-hint {\r\n",
       "    font-style: italic;\r\n",
       "    overflow: hidden;\r\n",
       "    white-space: nowrap;\r\n",
       "}\r\n",
       ".dni-treeview {\r\n",
       "    white-space: nowrap;\r\n",
       "}\r\n",
       ".dni-treeview td {\r\n",
       "    vertical-align: top;\r\n",
       "    text-align: start;\r\n",
       "}\r\n",
       "details.dni-treeview {\r\n",
       "    padding-left: 1em;\r\n",
       "}\r\n",
       "table td {\r\n",
       "    text-align: start;\r\n",
       "}\r\n",
       "table tr { \r\n",
       "    vertical-align: top; \r\n",
       "    margin: 0em 0px;\r\n",
       "}\r\n",
       "table tr td pre \r\n",
       "{ \r\n",
       "    vertical-align: top !important; \r\n",
       "    margin: 0em 0px !important;\r\n",
       "} \r\n",
       "table th {\r\n",
       "    text-align: start;\r\n",
       "}\r\n",
       "</style>"
      ]
     },
     "metadata": {},
     "output_type": "display_data"
    }
   ],
   "source": [
    "// Pipe Operator\n",
    "\n",
    "let double a = a * 2\n",
    "4 |> double // ergibt 8\n",
    "4 \n",
    "|> double \n",
    "|> double // ergibt 16"
   ]
  },
  {
   "cell_type": "code",
   "execution_count": 7,
   "metadata": {
    "dotnet_interactive": {
     "language": "fsharp"
    },
    "polyglot_notebook": {
     "kernelName": "fsharp"
    }
   },
   "outputs": [],
   "source": [
    "// Discriminated Unions\n",
    "\n",
    "// Discriminated Unions (\"Tagged Union\", \"Sum Type\", \"Choice Type\")\n",
    "type Vehicle = Bike | Car | Bus\n",
    "\n",
    "// Pattern Matching zur Behandlung der verschiedenen Fälle\n",
    "let vehicle = Bike\n",
    "let laneText = \n",
    "  match vehicle with\n",
    "  | Bike -> \"Use the bike lane\"\n",
    "  | Car -> \"Use the car driving lane\"\n",
    "  | Bus -> \"The bus uses its own lane\""
   ]
  },
  {
   "cell_type": "code",
   "execution_count": 25,
   "metadata": {
    "dotnet_interactive": {
     "language": "fsharp"
    },
    "polyglot_notebook": {
     "kernelName": "fsharp"
    }
   },
   "outputs": [
    {
     "data": {
      "text/html": [
       "<div class=\"dni-plaintext\"><pre>12</pre></div><style>\r\n",
       ".dni-code-hint {\r\n",
       "    font-style: italic;\r\n",
       "    overflow: hidden;\r\n",
       "    white-space: nowrap;\r\n",
       "}\r\n",
       ".dni-treeview {\r\n",
       "    white-space: nowrap;\r\n",
       "}\r\n",
       ".dni-treeview td {\r\n",
       "    vertical-align: top;\r\n",
       "    text-align: start;\r\n",
       "}\r\n",
       "details.dni-treeview {\r\n",
       "    padding-left: 1em;\r\n",
       "}\r\n",
       "table td {\r\n",
       "    text-align: start;\r\n",
       "}\r\n",
       "table tr { \r\n",
       "    vertical-align: top; \r\n",
       "    margin: 0em 0px;\r\n",
       "}\r\n",
       "table tr td pre \r\n",
       "{ \r\n",
       "    vertical-align: top !important; \r\n",
       "    margin: 0em 0px !important;\r\n",
       "} \r\n",
       "table th {\r\n",
       "    text-align: start;\r\n",
       "}\r\n",
       "</style>"
      ]
     },
     "metadata": {},
     "output_type": "display_data"
    }
   ],
   "source": [
    "// Discriminated Unions with values\n",
    "\n",
    "// auch mit unterschiedlichen(!) Daten an jedem Fall möglich\n",
    "type MyRectangle = {\n",
    "    Width: float\n",
    "    Height: float\n",
    "}\n",
    "type Shape =\n",
    "    | Circle of float\n",
    "    | Rectangle of MyRectangle\n",
    "\n",
    "let myRectangle = { Width = 3.0; Height = 4.0 }\n",
    "\n",
    "let c = Rectangle myRectangle\n",
    "\n",
    "match c with\n",
    "| Circle radius -> radius * radius * System.Math.PI\n",
    "| Rectangle myRectangle -> myRectangle.Width * myRectangle.Height"
   ]
  },
  {
   "cell_type": "code",
   "execution_count": 29,
   "metadata": {
    "dotnet_interactive": {
     "language": "fsharp"
    },
    "polyglot_notebook": {
     "kernelName": "fsharp"
    }
   },
   "outputs": [
    {
     "data": {
      "text/html": [
       "<details open=\"open\" class=\"dni-treeview\"><summary><span class=\"dni-code-hint\"><code>{ products = []\\n  total = 42.42\\n  createdAt = 17.06.2023 00:04:15 }</code></span></summary><div><table><thead><tr></tr></thead><tbody><tr><td>products</td><td></td></tr><tr><td>total</td><td><div class=\"dni-plaintext\"><pre>42.42</pre></div></td></tr><tr><td>createdAt</td><td><span>2023-06-17 00:04:15Z</span></td></tr></tbody></table></div></details><style>\r\n",
       ".dni-code-hint {\r\n",
       "    font-style: italic;\r\n",
       "    overflow: hidden;\r\n",
       "    white-space: nowrap;\r\n",
       "}\r\n",
       ".dni-treeview {\r\n",
       "    white-space: nowrap;\r\n",
       "}\r\n",
       ".dni-treeview td {\r\n",
       "    vertical-align: top;\r\n",
       "    text-align: start;\r\n",
       "}\r\n",
       "details.dni-treeview {\r\n",
       "    padding-left: 1em;\r\n",
       "}\r\n",
       "table td {\r\n",
       "    text-align: start;\r\n",
       "}\r\n",
       "table tr { \r\n",
       "    vertical-align: top; \r\n",
       "    margin: 0em 0px;\r\n",
       "}\r\n",
       "table tr td pre \r\n",
       "{ \r\n",
       "    vertical-align: top !important; \r\n",
       "    margin: 0em 0px !important;\r\n",
       "} \r\n",
       "table th {\r\n",
       "    text-align: start;\r\n",
       "}\r\n",
       "</style>"
      ]
     },
     "metadata": {},
     "output_type": "display_data"
    }
   ],
   "source": [
    "// Record Types\n",
    "type Product = {\n",
    "    name: string\n",
    "    price: float\n",
    "}\n",
    "\n",
    "type ShoppingCart = {\n",
    "    products: Product list\n",
    "    total: float\n",
    "    createdAt: System.DateTime\n",
    "}\n",
    "\n",
    "// Typ muss nur angegeben werden wenn er nicht eindeutig ist\n",
    "let shoppingCart = {\n",
    "    products = []\n",
    "    total = 42.42\n",
    "    createdAt = System.DateTime.Now\n",
    "}\n",
    "\n"
   ]
  },
  {
   "attachments": {},
   "cell_type": "markdown",
   "metadata": {},
   "source": [
    "## Algebraic Data Types\n",
    "\n",
    "Records and Discriminated Unions are the two main types of algebraic data types in F#.\n",
    "\n",
    "- Discriminated Unions\n",
    "    - OR types\n",
    "    - Sum-Type: The state is the **sum** of all possible states\n",
    "- Records\n",
    "    - AND types\n",
    "    - Product-Type: The state is the cartesian **product** of all possible states\n",
    "\n",
    "Examples:\n",
    "\n",
    "```fsharp\n",
    "type Vehicle = Bike | Car | Bus\n",
    "```\n",
    "\n",
    "The possible states are: `Bike`, `Car`, `Bus`. Sum 👉 3\n",
    "\n",
    "```fsharp\n",
    "type ThruthTable {\n",
    "    Value1: bool\n",
    "    Value2: bool\n",
    "}\n",
    "```\n",
    "\n",
    "All possible states:\n",
    "\n",
    "```fsharp\n",
    "{ Value1 = true; Value2 = true }\n",
    "{ Value1 = true; Value2 = false }\n",
    "{ Value1 = false; Value2 = true }\n",
    "{ Value1 = false; Value2 = false }\n",
    "```\n",
    "\n",
    "This is a product type. Product 👉 4\n"
   ]
  },
  {
   "cell_type": "code",
   "execution_count": 14,
   "metadata": {
    "dotnet_interactive": {
     "language": "fsharp"
    },
    "polyglot_notebook": {
     "kernelName": "fsharp"
    }
   },
   "outputs": [
    {
     "data": {
      "text/html": [
       "<div class=\"dni-plaintext\"><pre>&lt;null&gt;</pre></div><style>\r\n",
       ".dni-code-hint {\r\n",
       "    font-style: italic;\r\n",
       "    overflow: hidden;\r\n",
       "    white-space: nowrap;\r\n",
       "}\r\n",
       ".dni-treeview {\r\n",
       "    white-space: nowrap;\r\n",
       "}\r\n",
       ".dni-treeview td {\r\n",
       "    vertical-align: top;\r\n",
       "    text-align: start;\r\n",
       "}\r\n",
       "details.dni-treeview {\r\n",
       "    padding-left: 1em;\r\n",
       "}\r\n",
       "table td {\r\n",
       "    text-align: start;\r\n",
       "}\r\n",
       "table tr { \r\n",
       "    vertical-align: top; \r\n",
       "    margin: 0em 0px;\r\n",
       "}\r\n",
       "table tr td pre \r\n",
       "{ \r\n",
       "    vertical-align: top !important; \r\n",
       "    margin: 0em 0px !important;\r\n",
       "} \r\n",
       "table th {\r\n",
       "    text-align: start;\r\n",
       "}\r\n",
       "</style>"
      ]
     },
     "metadata": {},
     "output_type": "display_data"
    }
   ],
   "source": [
    "let toUpper (s: string) = s.ToUpper()\n",
    "\n",
    "let stringToOption s =\n",
    "    if String.IsNullOrWhiteSpace s then\n",
    "        None\n",
    "    else\n",
    "        Some s\n",
    "\n",
    "// let nonEmptyStringToUpper1 s =\n",
    "//     let nonEmpty = stringToOption s\n",
    "//     // passt nicht: \"string\" erwartet, aber \"string option\" bekommen\n",
    "//     let nonEmptyUpper = toUpper nonEmpty\n",
    "//     nonEmptyUpper\n",
    "\n",
    "// let nonEmptyStringToUpper2 s =\n",
    "//     let nonEmpty = stringToOption s\n",
    "//     let nonEmptyUpper = Option.map toUpper nonEmpty\n",
    "//     nonEmptyUpper\n",
    "\n",
    "// \"valid\" |> nonEmptyStringToUpper2 // ergibt Some \"VALID\"\n",
    "// \"\" |> nonEmptyStringToUpper2 // ergibt None"
   ]
  },
  {
   "cell_type": "code",
   "execution_count": 30,
   "metadata": {
    "dotnet_interactive": {
     "language": "fsharp"
    },
    "polyglot_notebook": {
     "kernelName": "fsharp"
    }
   },
   "outputs": [
    {
     "data": {
      "text/html": [
       "<details open=\"open\" class=\"dni-treeview\"><summary><span class=\"dni-code-hint\"><code>Some(VALID)</code></span></summary><div><table><thead><tr></tr></thead><tbody><tr><td>Value</td><td>VALID</td></tr></tbody></table></div></details><style>\r\n",
       ".dni-code-hint {\r\n",
       "    font-style: italic;\r\n",
       "    overflow: hidden;\r\n",
       "    white-space: nowrap;\r\n",
       "}\r\n",
       ".dni-treeview {\r\n",
       "    white-space: nowrap;\r\n",
       "}\r\n",
       ".dni-treeview td {\r\n",
       "    vertical-align: top;\r\n",
       "    text-align: start;\r\n",
       "}\r\n",
       "details.dni-treeview {\r\n",
       "    padding-left: 1em;\r\n",
       "}\r\n",
       "table td {\r\n",
       "    text-align: start;\r\n",
       "}\r\n",
       "table tr { \r\n",
       "    vertical-align: top; \r\n",
       "    margin: 0em 0px;\r\n",
       "}\r\n",
       "table tr td pre \r\n",
       "{ \r\n",
       "    vertical-align: top !important; \r\n",
       "    margin: 0em 0px !important;\r\n",
       "} \r\n",
       "table th {\r\n",
       "    text-align: start;\r\n",
       "}\r\n",
       "</style>"
      ]
     },
     "metadata": {},
     "output_type": "display_data"
    }
   ],
   "source": [
    "let storeInDatabase path content = \n",
    "  try\n",
    "    System.IO.File.WriteAllText(path, content)\n",
    "    Some content\n",
    "  with\n",
    "    ex -> None\n",
    "\n",
    "let stringToOption s =\n",
    "    if String.IsNullOrWhiteSpace s then None else Some s\n",
    "\n",
    "let toUpper (s: string) = s.ToUpper()\n",
    "\n",
    "let nonEmptyStringStoreInPersistenceAndToUpper2 path content =\n",
    "    let nonEmpty = stringToOption content\n",
    "    let stored = Option.bind (storeInDatabase path) nonEmpty\n",
    "    let nonEmptyUpper = Option.map toUpper stored    \n",
    "    nonEmptyUpper\n",
    "\n",
    "nonEmptyStringStoreInPersistenceAndToUpper2 \"test.txt\" \"valid\" // ergibt Some \"VALID\"    "
   ]
  }
 ],
 "metadata": {
  "kernelspec": {
   "display_name": ".NET (F#)",
   "language": "F#",
   "name": ".net-fsharp"
  },
  "language_info": {
   "name": "polyglot-notebook"
  },
  "polyglot_notebook": {
   "kernelInfo": {
    "defaultKernelName": "fsharp",
    "items": [
     {
      "aliases": [],
      "languageName": "fsharp",
      "name": "fsharp"
     }
    ]
   }
  }
 },
 "nbformat": 4,
 "nbformat_minor": 2
}
